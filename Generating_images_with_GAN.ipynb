{
  "cells": [
    {
      "cell_type": "markdown",
      "metadata": {
        "id": "vkfcNuR-Rm9j"
      },
      "source": [
        "## Importing Packages"
      ]
    },
    {
      "cell_type": "code",
      "execution_count": null,
      "metadata": {
        "id": "SWCgWg7CRrIm"
      },
      "outputs": [],
      "source": [
        "import os\n",
        "import time\n",
        "import numpy as np\n",
        "import tensorflow as tf\n",
        "from tensorflow.keras import layers\n",
        "import argparse\n",
        "from IPython import display\n",
        "import matplotlib.pyplot as plt\n",
        "# %matplotlib inline\n",
        "from tensorflow import keras"
      ]
    },
    {
      "cell_type": "markdown",
      "metadata": {
        "id": "F6vN0vchRt9h"
      },
      "source": [
        "# we construct the argument parser"
      ]
    },
    {
      "cell_type": "code",
      "execution_count": null,
      "metadata": {
        "id": "PRcpW4nYRvOc"
      },
      "outputs": [],
      "source": [
        "parser = argparse.ArgumentParser()\n",
        "parser.add_argument(\"--n_epochs\", type=int, default=200, help=\"number of epochs of training\")\n",
        "parser.add_argument(\"--batch_size\", type=int, default=128, help=\"size of the batches\")\n",
        "parser.add_argument(\"--lr\", type=float, default=2e-4, help=\"adam: learning rate\")\n",
        "parser.add_argument(\"--b1\", type=float, default=0.5, help=\"adam: decay of first order momentum of gradient\")\n",
        "parser.add_argument(\"--b2\", type=float, default=0.999, help=\"adam: decay of first order momentum of gradient\")\n",
        "parser.add_argument(\"--latent_dim\", type=int, default=100, help=\"dimension of the latent space (generator's input)\")\n",
        "parser.add_argument(\"--image_dim\", type=int, default=784, help=\"image size\")\n",
        "parser.add_argument(\"--channels\", type=int, default=1, help=\"image channels\")\n",
        "args = parser.parse_args(\"\")"
      ]
    },
    {
      "cell_type": "markdown",
      "metadata": {
        "id": "42eD6QoWRxF7"
      },
      "source": [
        "## Then load the data and perform Data preprocessing"
      ]
    },
    {
      "cell_type": "code",
      "execution_count": null,
      "metadata": {
        "colab": {
          "base_uri": "https://localhost:8080/"
        },
        "id": "V08vTx8YRyDc",
        "outputId": "b50dc32a-a170-4f96-c07b-704ba8a5c222"
      },
      "outputs": [
        {
          "name": "stdout",
          "output_type": "stream",
          "text": [
            "Downloading data from https://storage.googleapis.com/tensorflow/tf-keras-datasets/train-labels-idx1-ubyte.gz\n",
            "32768/29515 [=================================] - 0s 0us/step\n",
            "40960/29515 [=========================================] - 0s 0us/step\n",
            "Downloading data from https://storage.googleapis.com/tensorflow/tf-keras-datasets/train-images-idx3-ubyte.gz\n",
            "26427392/26421880 [==============================] - 0s 0us/step\n",
            "26435584/26421880 [==============================] - 0s 0us/step\n",
            "Downloading data from https://storage.googleapis.com/tensorflow/tf-keras-datasets/t10k-labels-idx1-ubyte.gz\n",
            "16384/5148 [===============================================================================================] - 0s 0us/step\n",
            "Downloading data from https://storage.googleapis.com/tensorflow/tf-keras-datasets/t10k-images-idx3-ubyte.gz\n",
            "4423680/4422102 [==============================] - 0s 0us/step\n",
            "4431872/4422102 [==============================] - 0s 0us/step\n"
          ]
        }
      ],
      "source": [
        "(x_train, y_train), (x_test, y_test) = tf.keras.datasets.fashion_mnist.load_data()\n",
        "x_train = x_train.reshape(x_train.shape[0], 28, 28, 1).astype('float32')\n",
        "x_train = (x_train - 127.5) / 127.5 # Normalize the images to [-1, 1]\n",
        "# Batch and shuffle the data\n",
        "train_dataset = tf.data.Dataset.from_tensor_slices(x_train).\\\n",
        "shuffle(60000).batch(args.batch_size)"
      ]
    },
    {
      "cell_type": "markdown",
      "metadata": {
        "id": "_ODbCh7tR0tF"
      },
      "source": [
        "## Creating Generator Network"
      ]
    },
    {
      "cell_type": "code",
      "execution_count": null,
      "metadata": {
        "id": "KeD5EZZiR2Ba"
      },
      "outputs": [],
      "source": [
        "def generator(image_dim):\n",
        "  inputs = keras.Input(shape=(100,), name='input_layer')\n",
        "  x = layers.Dense(128, kernel_initializer=tf.keras.initializers.he_uniform, name='dense_1')(inputs)\n",
        "  #print(x.dtype)\n",
        "  x = layers.LeakyReLU(0.2, name='leaky_relu_1')(x)\n",
        "  x = layers.Dense(256, kernel_initializer=tf.keras.initializers.he_uniform, name='dense_2')(x) \n",
        "  x = layers.BatchNormalization(momentum=0.1,  epsilon=0.8, name='bn_1')(x)\n",
        "  x = layers.LeakyReLU(0.2, name='leaky_relu_2')(x)\n",
        "  x = layers.Dense(512, kernel_initializer=tf.keras.initializers.he_uniform, name='dense_3')(x) \n",
        "  x = layers.BatchNormalization(momentum=0.1,  epsilon=0.8, name='bn_2')(x)\n",
        "  x = layers.LeakyReLU(0.2, name='leaky_relu_3')(x)\n",
        "  x = layers.Dense(1024, kernel_initializer=tf.keras.initializers.he_uniform,  name='dense_4')(x) \n",
        "  x = layers.BatchNormalization(momentum=0.1,  epsilon=0.8, name='bn_3')(x)\n",
        "  x = layers.LeakyReLU(0.2, name='leaky_relu_4')(x)\n",
        "  x = layers.Dense(image_dim, kernel_initializer=tf.keras.initializers.he_uniform, activation='tanh',  name='dense_5')(x) \n",
        "  outputs = tf.reshape(x, [-1, 28, 28, 1], name='Reshape_Layer')\n",
        "  model = tf.keras.Model(inputs, outputs, name=\"Generator\")\n",
        "  return model"
      ]
    },
    {
      "cell_type": "code",
      "execution_count": null,
      "metadata": {
        "id": "VEyCnZThRm3e"
      },
      "outputs": [],
      "source": [
        "generator = generator(args.image_dim)"
      ]
    },
    {
      "cell_type": "code",
      "execution_count": null,
      "metadata": {
        "colab": {
          "base_uri": "https://localhost:8080/"
        },
        "id": "LeKXCGodR9-l",
        "outputId": "6c3e4617-4bd1-4c46-ce4f-e6335ecb94c2"
      },
      "outputs": [
        {
          "name": "stdout",
          "output_type": "stream",
          "text": [
            "Model: \"Generator\"\n",
            "_________________________________________________________________\n",
            "Layer (type)                 Output Shape              Param #   \n",
            "=================================================================\n",
            "input_layer (InputLayer)     [(None, 100)]             0         \n",
            "_________________________________________________________________\n",
            "dense_1 (Dense)              (None, 128)               12928     \n",
            "_________________________________________________________________\n",
            "leaky_relu_1 (LeakyReLU)     (None, 128)               0         \n",
            "_________________________________________________________________\n",
            "dense_2 (Dense)              (None, 256)               33024     \n",
            "_________________________________________________________________\n",
            "bn_1 (BatchNormalization)    (None, 256)               1024      \n",
            "_________________________________________________________________\n",
            "leaky_relu_2 (LeakyReLU)     (None, 256)               0         \n",
            "_________________________________________________________________\n",
            "dense_3 (Dense)              (None, 512)               131584    \n",
            "_________________________________________________________________\n",
            "bn_2 (BatchNormalization)    (None, 512)               2048      \n",
            "_________________________________________________________________\n",
            "leaky_relu_3 (LeakyReLU)     (None, 512)               0         \n",
            "_________________________________________________________________\n",
            "dense_4 (Dense)              (None, 1024)              525312    \n",
            "_________________________________________________________________\n",
            "bn_3 (BatchNormalization)    (None, 1024)              4096      \n",
            "_________________________________________________________________\n",
            "leaky_relu_4 (LeakyReLU)     (None, 1024)              0         \n",
            "_________________________________________________________________\n",
            "dense_5 (Dense)              (None, 784)               803600    \n",
            "_________________________________________________________________\n",
            "tf.reshape (TFOpLambda)      (None, 28, 28, 1)         0         \n",
            "=================================================================\n",
            "Total params: 1,513,616\n",
            "Trainable params: 1,510,032\n",
            "Non-trainable params: 3,584\n",
            "_________________________________________________________________\n"
          ]
        }
      ],
      "source": [
        "generator.summary()"
      ]
    },
    {
      "cell_type": "markdown",
      "metadata": {
        "id": "Uic6t48jR4YR"
      },
      "source": [
        "## Creating Discriminator Network"
      ]
    },
    {
      "cell_type": "code",
      "execution_count": null,
      "metadata": {
        "id": "cnzzWyO6R5dC"
      },
      "outputs": [],
      "source": [
        "def discriminator():\n",
        "  inputs = keras.Input(shape=(28,28,1), name='input_layer')\n",
        "  input = tf.reshape(inputs, [-1, 784], name='reshape_layer')\n",
        "  x = layers.Dense(512, kernel_initializer=tf.keras.initializers.he_uniform, name='dense_1')(input)\n",
        "  x = layers.LeakyReLU(0.2, name='leaky_relu_1')(x)\n",
        "  x = layers.Dense(256, kernel_initializer=tf.keras.initializers.he_uniform, name='dense_2')(x) \n",
        "  x = layers.LeakyReLU(0.2, name='leaky_relu_2')(x)\n",
        "  outputs = layers.Dense(1, kernel_initializer=tf.keras.initializers.he_uniform, activation='sigmoid', name='dense_3') (x) \n",
        "  model = tf.keras.Model(inputs, outputs, name=\"Discriminator\")\n",
        "  return model"
      ]
    },
    {
      "cell_type": "code",
      "execution_count": null,
      "metadata": {
        "id": "QP8lsW5vSJEd"
      },
      "outputs": [],
      "source": [
        "discriminator = discriminator()"
      ]
    },
    {
      "cell_type": "code",
      "execution_count": null,
      "metadata": {
        "colab": {
          "base_uri": "https://localhost:8080/"
        },
        "id": "_3Kn99hbSK6K",
        "outputId": "8f907429-8b09-4d43-dbc4-7ccbba7c13c6"
      },
      "outputs": [
        {
          "name": "stdout",
          "output_type": "stream",
          "text": [
            "Model: \"Discriminator\"\n",
            "_________________________________________________________________\n",
            "Layer (type)                 Output Shape              Param #   \n",
            "=================================================================\n",
            "input_layer (InputLayer)     [(None, 28, 28, 1)]       0         \n",
            "_________________________________________________________________\n",
            "tf.reshape_1 (TFOpLambda)    (None, 784)               0         \n",
            "_________________________________________________________________\n",
            "dense_1 (Dense)              (None, 512)               401920    \n",
            "_________________________________________________________________\n",
            "leaky_relu_1 (LeakyReLU)     (None, 512)               0         \n",
            "_________________________________________________________________\n",
            "dense_2 (Dense)              (None, 256)               131328    \n",
            "_________________________________________________________________\n",
            "leaky_relu_2 (LeakyReLU)     (None, 256)               0         \n",
            "_________________________________________________________________\n",
            "dense_3 (Dense)              (None, 1)                 257       \n",
            "=================================================================\n",
            "Total params: 533,505\n",
            "Trainable params: 533,505\n",
            "Non-trainable params: 0\n",
            "_________________________________________________________________\n"
          ]
        }
      ],
      "source": [
        "discriminator.summary()"
      ]
    },
    {
      "cell_type": "markdown",
      "metadata": {
        "id": "hW-gXhCFR6-r"
      },
      "source": [
        "## Loss Function"
      ]
    },
    {
      "cell_type": "code",
      "execution_count": null,
      "metadata": {
        "id": "gr1Xe-fRR8Yk"
      },
      "outputs": [],
      "source": [
        "binary_cross_entropy = tf.keras.losses.BinaryCrossentropy()"
      ]
    },
    {
      "cell_type": "markdown",
      "metadata": {
        "id": "kS2s1kOqR9UM"
      },
      "source": [
        "## Generator Loss"
      ]
    },
    {
      "cell_type": "code",
      "execution_count": null,
      "metadata": {
        "id": "76RO3dAAR_Ti"
      },
      "outputs": [],
      "source": [
        "def generator_loss(fake_output):\n",
        "  gen_loss = binary_cross_entropy(tf.ones_like(fake_output), fake_output)\n",
        "  #print(gen_loss)\n",
        "  return gen_loss"
      ]
    },
    {
      "cell_type": "markdown",
      "metadata": {
        "id": "PIzQ98vsSAl4"
      },
      "source": [
        "## Discriminator Loss"
      ]
    },
    {
      "cell_type": "code",
      "execution_count": null,
      "metadata": {
        "id": "h4xH77JjSBzN"
      },
      "outputs": [],
      "source": [
        "def discriminator_loss(real_output, fake_output):\n",
        "  real_loss = binary_cross_entropy(tf.ones_like(real_output), real_output)\n",
        "  fake_loss = binary_cross_entropy(tf.zeros_like(fake_output), fake_output)\n",
        "  total_loss = real_loss + fake_loss\n",
        "  #print(total_loss)\n",
        "  return total_loss"
      ]
    },
    {
      "cell_type": "markdown",
      "metadata": {
        "id": "SLfjV7zUSDHJ"
      },
      "source": [
        "## Optimizers"
      ]
    },
    {
      "cell_type": "code",
      "execution_count": null,
      "metadata": {
        "id": "8JSaUZzjSEf6"
      },
      "outputs": [],
      "source": [
        "generator_optimizer = tf.keras.optimizers.Adam(learning_rate = args.lr, beta_1 = args.b1, beta_2 = args.b2 )\n",
        "discriminator_optimizer = tf.keras.optimizers.Adam(learning_rate = args.lr, beta_1 = args.b1, beta_2 = args.b2 )"
      ]
    },
    {
      "cell_type": "markdown",
      "metadata": {
        "id": "apAcN5nuSFlU"
      },
      "source": [
        "## Training Loop (all the functions combined for training GAN)"
      ]
    },
    {
      "cell_type": "code",
      "execution_count": null,
      "metadata": {
        "id": "wF35HnoiSGvN"
      },
      "outputs": [],
      "source": [
        "@tf.function\n",
        "def train_step(images):\n",
        "  noise = tf.random.normal([args.batch_size, args.latent_dim])\n",
        "  \n",
        "  with tf.GradientTape() as gen_tape, tf.GradientTape() as disc_tape:\n",
        "    generated_images = generator(noise, training=True)\n",
        "\n",
        "    real_output = discriminator(images, training=True)\n",
        "    fake_output = discriminator(generated_images, training=True)\n",
        "    \n",
        "    gen_loss = generator_loss(fake_output)\n",
        "    disc_loss = discriminator_loss(real_output, fake_output)\n",
        "      \n",
        "      \n",
        "  gradients_of_gen = gen_tape.gradient(gen_loss, generator.trainable_variables) # computing the gradients\n",
        "  \n",
        "  \n",
        "  gradients_of_disc = disc_tape.gradient(disc_loss, discriminator.trainable_variables) # computing the gradients\n",
        "      \n",
        "  \n",
        "  generator_optimizer.apply_gradients(zip(gradients_of_gen, generator.trainable_variables)) # updating generator parameter \n",
        "  \n",
        "      \n",
        "  discriminator_optimizer.apply_gradients(zip(gradients_of_disc,discriminator.trainable_variables)) # updating discriminator parameter"
      ]
    },
    {
      "cell_type": "markdown",
      "metadata": {
        "id": "OmTIc-UESKAq"
      },
      "source": [
        "## Final training "
      ]
    },
    {
      "cell_type": "code",
      "execution_count": null,
      "metadata": {
        "id": "WbXEZOeFTbd8"
      },
      "outputs": [],
      "source": [
        "# We will reuse this seed overtime to visualize progress\n",
        "num_examples_to_generate = 25\n",
        "seed = tf.random.normal([num_examples_to_generate, args.latent_dim])"
      ]
    },
    {
      "cell_type": "code",
      "execution_count": null,
      "metadata": {
        "id": "14x65kl3Sftr"
      },
      "outputs": [],
      "source": [
        "!mkdir tensor"
      ]
    },
    {
      "cell_type": "code",
      "execution_count": null,
      "metadata": {
        "id": "yo5N2B01SiKo"
      },
      "outputs": [],
      "source": [
        "import os\n",
        "checkpoint_dir = './training_checkpoints'\n",
        "checkpoint_prefix = os.path.join(checkpoint_dir, \"ckpt\")\n",
        "checkpoint = tf.train.Checkpoint(generator_optimizer=generator_optimizer,\n",
        "                                 discriminator_optimizer=discriminator_optimizer,\n",
        "                                 generator=generator,\n",
        "                                 discriminator=discriminator)"
      ]
    },
    {
      "cell_type": "code",
      "execution_count": null,
      "metadata": {
        "id": "HP1oxyauSK_g"
      },
      "outputs": [],
      "source": [
        "def train(dataset, epochs):\n",
        "  for epoch in range(epochs):\n",
        "    start = time.time()\n",
        "    i = 0\n",
        "    D_loss_list, G_loss_list = [], []\n",
        "    for image_batch in dataset:\n",
        "      i += 1\n",
        "      train_step(image_batch)\n",
        "\n",
        "    display.clear_output(wait=True)\n",
        "    generate_and_save_images(generator,\n",
        "                              epoch + 1,\n",
        "                              seed)\n",
        "\n",
        "    # Save the model every 15 epochs\n",
        "    if (epoch + 1) % 15 == 0:\n",
        "      checkpoint.save(file_prefix = checkpoint_prefix)\n",
        "\n",
        "    print ('Time for epoch {} is {} sec'.format(epoch + 1, time.time()-start))\n",
        "\n",
        "  # Generate after the final epoch\n",
        "  display.clear_output(wait=True)\n",
        "  generate_and_save_images(generator,\n",
        "                          epochs,\n",
        "                          seed)"
      ]
    },
    {
      "cell_type": "code",
      "execution_count": null,
      "metadata": {
        "id": "Juor93f9T0M4"
      },
      "outputs": [],
      "source": [
        "def generate_and_save_images(model, epoch, test_input):\n",
        "  # Notice `training` is set to False.\n",
        "  # This is so all layers run in inference mode (batchnorm).\n",
        "    predictions = model(test_input, training=False)\n",
        "    #print(predictions.shape)\n",
        "    fig = plt.figure(figsize=(4,4))\n",
        "\n",
        "    for i in range(predictions.shape[0]):\n",
        "        plt.subplot(5, 5, i+1)  \n",
        "        pred = (predictions[i, :, :, 0] + 1) * 127.5  \n",
        "        pred = np.array(pred)    \n",
        "        plt.imshow(pred.astype(np.uint8), cmap='gray')\n",
        "        plt.axis('off')\n",
        "\n",
        "    plt.savefig('tensor/image_at_epoch_{:d}.png'.format(epoch))\n",
        "    plt.show()"
      ]
    },
    {
      "cell_type": "code",
      "execution_count": null,
      "metadata": {
        "colab": {
          "background_save": true,
          "base_uri": "https://localhost:8080/",
          "height": 265
        },
        "id": "KIhJ7GTNSwSl",
        "outputId": "4695c633-6b3a-4aa7-e313-e5de933a4f3c"
      },
      "outputs": [
        {
          "data": {
            "image/png": "[encoded data removed]",
            "text/plain": [
              "<Figure size 288x288 with 25 Axes>"
            ]
          },
          "metadata": {},
          "output_type": "display_data"
        }
      ],
      "source": [
        "train(train_dataset, args.n_epochs)"
      ]
    }
  ],
  "metadata": {
    "colab": {
      "provenance": []
    },
    "kernelspec": {
      "display_name": "Python 3",
      "name": "python3"
    },
    "language_info": {
      "name": "python"
    }
  },
  "nbformat": 4,
  "nbformat_minor": 0
}